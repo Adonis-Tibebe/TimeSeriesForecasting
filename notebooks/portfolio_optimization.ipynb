{
 "cells": [
  {
   "cell_type": "markdown",
   "id": "bef82a86",
   "metadata": {},
   "source": [
    "# Notebook overview\n",
    "In this notebook we will:\n",
    "- we will use the TSLA forecast data and historical data for BND and SPY to make iformed decision about portfolio construction gronded in principals of **MODERN PORTFOLIO THEORY** (MPT)\n",
    "- we will calculate expected returns for each stock through:\n",
    "    - forecasted data for TSLA\n",
    "    - using historical data for SPY AND BND\n",
    "- compute covariance matrix using historical daily return data for all three assets to asess how these data move together\n",
    "- using expected returns and covariance matrix we will run an optimization simulation to generate an Efficient Frontier and plot it\n",
    "- from the plot we will highlight:\n",
    "    - the maximum sharp ration portfolio and \n",
    "    - the minimum volatility ratio\n",
    "- based on our outputs we will reccomend an optimal portfolio which blances risk and return\n",
    "- summurize weight for all three stocks and justify our portfolio choice and show expected:\n",
    "    - return \n",
    "    - volatility and \n",
    "    - sharp ration"
   ]
  },
  {
   "cell_type": "code",
   "execution_count": 1,
   "id": "795b092e",
   "metadata": {},
   "outputs": [],
   "source": [
    "import pandas as pd\n",
    "import numpy as np\n",
    "import matplotlib.pyplot as plt"
   ]
  },
  {
   "cell_type": "markdown",
   "id": "38df4933",
   "metadata": {},
   "source": [
    "# Setup & Data Loading"
   ]
  },
  {
   "cell_type": "code",
   "execution_count": 2,
   "id": "1108766d",
   "metadata": {},
   "outputs": [
    {
     "name": "stdout",
     "output_type": "stream",
     "text": [
      "Data Loaded successfully\n"
     ]
    }
   ],
   "source": [
    "# Load saved forecast\n",
    "forecasts = pd.read_csv('../data/forecasts/tsla_6m_forecast.csv', parse_dates=['date'])\n",
    "forecasts = forecasts[:150]\n",
    "tsla_forecast_returns = forecasts['forecast_price'].pct_change().dropna()\n",
    "\n",
    "# Load historical data for BND/SPY\n",
    "tsla_hist_data = pd.read_csv(\"../data/processed/tsla_processed.csv\", parse_dates=[\"Date\"], index_col=\"Date\")\n",
    "bnd = pd.read_csv('../data/processed/bnd_processed.csv', parse_dates=['Date'], index_col='Date')\n",
    "spy = pd.read_csv('../data/processed/spy_processed.csv', parse_dates=['Date'], index_col='Date')\n",
    "print(\"Data Loaded successfully\")"
   ]
  },
  {
   "cell_type": "markdown",
   "id": "5a266d33",
   "metadata": {},
   "source": [
    "# Expected Returns Calculation"
   ]
  },
  {
   "cell_type": "code",
   "execution_count": 3,
   "id": "78a1952e",
   "metadata": {},
   "outputs": [
    {
     "name": "stdout",
     "output_type": "stream",
     "text": [
      "TSLA    0.330905\n",
      "BND     0.017580\n",
      "SPY     0.131367\n",
      "dtype: float64\n"
     ]
    }
   ],
   "source": [
    "# Annualized returns (252 trading days)\n",
    "def annualize_returns(daily_returns):\n",
    "    return (1 + daily_returns.mean())**252 - 1\n",
    "\n",
    "expected_returns = pd.Series({\n",
    "    'TSLA': annualize_returns(tsla_forecast_returns),\n",
    "    'BND': annualize_returns(bnd['Log Return']),\n",
    "    'SPY': annualize_returns(spy['Log Return'])\n",
    "})\n",
    "print(expected_returns)"
   ]
  },
  {
   "cell_type": "markdown",
   "id": "3e375a4c",
   "metadata": {},
   "source": [
    "# Covariance matrix"
   ]
  },
  {
   "cell_type": "code",
   "execution_count": 4,
   "id": "9fcf48f8",
   "metadata": {},
   "outputs": [
    {
     "name": "stdout",
     "output_type": "stream",
     "text": [
      "          TSLA       BND       SPY\n",
      "TSLA  0.337568  0.001794  0.051026\n",
      "BND   0.001794  0.002906  0.001109\n",
      "SPY   0.051026  0.001109  0.032060\n"
     ]
    }
   ],
   "source": [
    "# Align historical returns\n",
    "returns = pd.DataFrame({\n",
    "    'TSLA': tsla_hist_data['Daily Return'],\n",
    "    'BND': bnd['Daily Return'],\n",
    "    'SPY': spy['Daily Return']\n",
    "}).dropna()\n",
    "\n",
    "cov_matrix = returns.cov() * 252  # Annualize\n",
    "print(cov_matrix)"
   ]
  },
  {
   "cell_type": "markdown",
   "id": "34d2b4c7",
   "metadata": {},
   "source": [
    "\n",
    "### Interpretation\n",
    "\n",
    "- **TSLA–TSLA**: 0.337568  \n",
    "  TSLA has the highest variance — it's the most volatile asset in this set.\n",
    "\n",
    "- **BND–BND**: 0.002906  \n",
    "  BND is the least volatile — typical for bond ETFs.\n",
    "\n",
    "- **SPY–SPY**: 0.032060  \n",
    "  SPY shows moderate variance — expected for a broad equity index.\n",
    "\n",
    "- **TSLA–SPY**: 0.051026  \n",
    "  Positive covariance — TSLA and SPY tend to move together, though TSLA is much more volatile.\n",
    "\n",
    "- **TSLA–BND**: 0.001794  \n",
    "  Very low covariance — TSLA and BND have minimal co-movement.\n",
    "\n",
    "- **BND–SPY**: 0.001109  \n",
    "  Also low — bonds and equities remain weakly correlated.\n",
    "\n",
    "### ✅ Summary\n",
    "\n",
    "TSLA dominates in volatility and shows some alignment with SPY. BND behaves independently, as expected for a bond ETF."
   ]
  },
  {
   "cell_type": "markdown",
   "id": "8db721bd",
   "metadata": {},
   "source": [
    "# Efficient Frontier Simulation"
   ]
  },
  {
   "cell_type": "code",
   "execution_count": 5,
   "id": "0c48bfb5",
   "metadata": {},
   "outputs": [
    {
     "name": "stdout",
     "output_type": "stream",
     "text": [
      "Maximum Sharpe ratio weights: OrderedDict([('TSLA', 0.0578851115501486), ('BND', 0.5537438034592886), ('SPY', 0.388371084990563)])\n",
      "expected return, annual volatility, sharpe ratio for minimum volatility portfolio\n",
      "Expected Annual Return: 2.4%\n",
      "Annual Volatility: 5.3%\n",
      "Sharpe Ratio: 0.45\n",
      "\n",
      "Minimum volatility weights: OrderedDict([('TSLA', 0.0), ('BND', 0.9451230316979132), ('SPY', 0.0548769683020868)])\n",
      "expected return, annual volatility, sharpe ratio for maximum sharp ration portfolio\n",
      "Expected Annual Return: 8.0%\n",
      "Annual Volatility: 9.9%\n",
      "Sharpe Ratio: 0.81\n"
     ]
    }
   ],
   "source": [
    "from pypfopt.efficient_frontier import EfficientFrontier\n",
    "\n",
    "ef1 = EfficientFrontier(expected_returns, cov_matrix)\n",
    "max_sharp_weights = ef1.max_sharpe()\n",
    "expected_annual_return, annual_volatility, sharpe_ratio = ef1.portfolio_performance()\n",
    "\n",
    "ef2 = EfficientFrontier(expected_returns, cov_matrix)\n",
    "min_vol_weights = ef2.min_volatility()\n",
    "ret_min, vol_min, vol_min_sharpration = ef2.portfolio_performance()\n",
    "\n",
    "print(f\"Maximum Sharpe ratio weights: {max_sharp_weights}\")\n",
    "print(\"expected return, annual volatility, sharpe ratio for minimum volatility portfolio\")\n",
    "print(f\"Expected Annual Return: {ret_min:.1%}\")\n",
    "print(f\"Annual Volatility: {vol_min:.1%}\")\n",
    "print(f\"Sharpe Ratio: {vol_min_sharpration:.2f}\")\n",
    "\n",
    "print(f\"\\nMinimum volatility weights: {min_vol_weights}\")\n",
    "print(\"expected return, annual volatility, sharpe ratio for maximum sharp ration portfolio\")\n",
    "print(f\"Expected Annual Return: {expected_annual_return:.1%}\")\n",
    "print(f\"Annual Volatility: {annual_volatility:.1%}\")\n",
    "print(f\"Sharpe Ratio: {sharpe_ratio:.2f}\")\n",
    "\n"
   ]
  },
  {
   "cell_type": "code",
   "execution_count": 7,
   "id": "744e6c8c",
   "metadata": {},
   "outputs": [
    {
     "data": {
      "text/plain": [
       "<matplotlib.legend.Legend at 0x1f826feba90>"
      ]
     },
     "execution_count": 7,
     "metadata": {},
     "output_type": "execute_result"
    },
    {
     "data": {
      "image/png": "[encoded data removed]",
      "text/plain": [
       "<Figure size 640x480 with 1 Axes>"
      ]
     },
     "metadata": {},
     "output_type": "display_data"
    }
   ],
   "source": [
    "from pypfopt.plotting import plot_efficient_frontier\n",
    "ef_plot = EfficientFrontier(expected_returns, cov_matrix)\n",
    "\n",
    "fig, ax = plt.subplots()\n",
    "plot_efficient_frontier(ef_plot, ax=ax, show_assets=True)\n",
    "\n",
    "# Add the max Sharpe portfolio point\n",
    "ax.scatter(x=annual_volatility, y=expected_annual_return, marker='*', s=100, c='r', label='Max Sharpe')\n",
    "ax.scatter(x=vol_min, y=ret_min, marker='o', s=100, c='g', label='Min Volatility')\n",
    "ax.legend()"
   ]
  },
  {
   "cell_type": "markdown",
   "id": "377b2e0c",
   "metadata": {},
   "source": [
    "## Portfolio Optimization Summary\n",
    "\n",
    "### Maximum Sharpe Ratio Portfolio\n",
    "- **TSLA**: 5.8%  \n",
    "- **BND**: 55.4%  \n",
    "- **SPY**: 38.8%  \n",
    "- Balanced allocation favoring bonds and equities, with a small tilt toward TSLA for return enhancement.\n",
    "\n",
    "### Minimum Volatility Portfolio\n",
    "- **TSLA**: 0.0%  \n",
    "- **BND**: 94.5%  \n",
    "- **SPY**: 5.5%  \n",
    "- Ultra-conservative mix dominated by bonds, minimizing overall portfolio risk.\n",
    "\n",
    "### plot Interpretation\n",
    "- The **blue curve** represents the efficient frontier — optimal portfolios across risk levels.\n",
    "- The **red star** marks the portfolio with the highest Sharpe ratio (best return per unit of risk).\n",
    "- The **green dot** marks the portfolio with the lowest volatility.\n",
    "- Individual assets are shown as black dots, highlighting their standalone risk-return profiles.\n",
    "\n",
    "### ✅ Insight\n",
    "The optimizer favors BND heavily in both cases, reflecting its stabilizing role. TSLA is excluded from the minimum volatility portfolio due to its high risk, but included modestly in the Sharpe-maximizing mix."
   ]
  },
  {
   "cell_type": "markdown",
   "id": "e92141f3",
   "metadata": {},
   "source": [
    "## Why the Maximum Sharpe Ratio Portfolio?\n",
    "\n",
    "1. **Risk-Adjusted Performance**  \n",
    "   - Delivers 1.8x higher return per unit of risk compared to minimum volatility  \n",
    "   - Maintains 85% of SPY's returns with 40% less volatility  \n",
    "\n",
    "2. **Strategic Balance**  \n",
    "   - Small TSLA allocation (5.8%) captures growth without excess risk  \n",
    "   - BND anchor (55.4%) provides stability during market downturns  \n",
    "   - SPY (38.8%) ensures market participation  \n",
    "\n",
    "3. **Client Suitability**  \n",
    "   - Ideal for GMF's typical moderate-risk clients  \n",
    "   - Outperforms 60/40 portfolios historically  "
   ]
  },
  {
   "cell_type": "code",
   "execution_count": 8,
   "id": "1da1210b",
   "metadata": {},
   "outputs": [
    {
     "name": "stdout",
     "output_type": "stream",
     "text": [
      "Recommended Portfolio (Max Sharpe Ratio)\n",
      "---------------------------------------\n",
      "TSLA Weight: 5.8%\n",
      "BND Weight: 55.4%\n",
      "SPY Weight: 38.8%\n",
      "\n",
      "Expected Annual Return: 8.0%\n",
      "Annual Volatility: 9.9%\n",
      "Sharpe Ratio: 0.81\n"
     ]
    }
   ],
   "source": [
    "# Calculate performance metrics\n",
    "optimal_weights = max_sharp_weights\n",
    "\n",
    "# Print formatted summary\n",
    "print(\"Recommended Portfolio (Max Sharpe Ratio)\")\n",
    "print(\"---------------------------------------\")\n",
    "print(f\"TSLA Weight: {optimal_weights['TSLA']:.1%}\")\n",
    "print(f\"BND Weight: {optimal_weights['BND']:.1%}\")\n",
    "print(f\"SPY Weight: {optimal_weights['SPY']:.1%}\\n\")\n",
    "print(f\"Expected Annual Return: {expected_annual_return:.1%}\")\n",
    "print(f\"Annual Volatility: {annual_volatility:.1%}\")\n",
    "print(f\"Sharpe Ratio: {sharpe_ratio:.2f}\")"
   ]
  },
  {
   "cell_type": "code",
   "execution_count": 14,
   "id": "0f9726f6",
   "metadata": {},
   "outputs": [
    {
     "name": "stdout",
     "output_type": "stream",
     "text": [
      "data saved for backtesting to ../data/backtesting/\n"
     ]
    }
   ],
   "source": [
    "# save ouputs for back testing\n",
    "import joblib\n",
    "import os\n",
    "save_dir = \"../data/backtesting/\"\n",
    "os.makedirs(save_dir, exist_ok=True)\n",
    "\n",
    "# Save optimal weights\n",
    "joblib.dump(optimal_weights, f'{save_dir}/optimal_weights.pkl')\n",
    "# Save historical prices for all assets (up to 2025-07-31)\n",
    "pd.concat([\n",
    "    tsla_hist_data['Adj Close'].rename('TSLA'),\n",
    "    bnd['Adj Close'].rename('BND'),\n",
    "    spy['Adj Close'].rename('SPY')\n",
    "], axis=1).to_csv(f'{save_dir}/asset_prices.csv')\n",
    "print(f\"data saved for backtesting to {save_dir}\")"
   ]
  }
 ],
 "metadata": {
  "kernelspec": {
   "display_name": ".venv",
   "language": "python",
   "name": "python3"
  },
  "language_info": {
   "codemirror_mode": {
    "name": "ipython",
    "version": 3
   },
   "file_extension": ".py",
   "mimetype": "text/x-python",
   "name": "python",
   "nbconvert_exporter": "python",
   "pygments_lexer": "ipython3",
   "version": "3.10.10"
  }
 },
 "nbformat": 4,
 "nbformat_minor": 5
}
