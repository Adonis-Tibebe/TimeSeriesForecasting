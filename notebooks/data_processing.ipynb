{
 "cells": [
  {
   "cell_type": "markdown",
   "id": "f124efa5",
   "metadata": {},
   "source": [
    "# Data Processing Pipeline\n",
    "**Goal**: Clean and prepare TSLA, BND, and SPY data for modeling.  \n",
    "**Steps**:  \n",
    "1. Load raw data  \n",
    "2. Validate data types and handle missing values  \n",
    "3. Calculate derived metrics (returns, volatility)  \n",
    "4. Save processed data to `data/processed/`"
   ]
  },
  {
   "cell_type": "code",
   "execution_count": 3,
   "id": "aec08c41",
   "metadata": {},
   "outputs": [],
   "source": [
    "import pandas as pd\n",
    "import numpy as np\n",
    "from pathlib import Path\n",
    "import matplotlib.pyplot as plt\n",
    "import os \n",
    "import sys\n",
    "\n",
    "sys.path.append(os.path.abspath(\"../\"))\n",
    "from src.utils.data_processing_utils import load_ticker_data, preprocess_data, calculate_metrics\n",
    "\n",
    "DATA_RAW_DIR = Path(\"../data/raw\")\n",
    "DATA_PROCESSED_DIR = Path(\"../data/processed\")\n",
    "DATA_PROCESSED_DIR.mkdir(exist_ok=True)"
   ]
  },
  {
   "cell_type": "markdown",
   "id": "54c7fa06",
   "metadata": {},
   "source": [
    "## 1. Load Raw Data\n",
    "- Confirm data types (e.g., `Date` as datetime, numeric cols as float)  \n",
    "- Check for missing values  "
   ]
  },
  {
   "cell_type": "code",
   "execution_count": 4,
   "id": "1f15a0aa",
   "metadata": {},
   "outputs": [
    {
     "name": "stdout",
     "output_type": "stream",
     "text": [
      "Tesla data info:\n",
      "<class 'pandas.core.frame.DataFrame'>\n",
      "DatetimeIndex: 2535 entries, 2015-07-01 to 2025-07-30\n",
      "Data columns (total 6 columns):\n",
      " #   Column     Non-Null Count  Dtype  \n",
      "---  ------     --------------  -----  \n",
      " 0   Open       2535 non-null   float64\n",
      " 1   High       2535 non-null   float64\n",
      " 2   Low        2535 non-null   float64\n",
      " 3   Close      2535 non-null   float64\n",
      " 4   Adj Close  2535 non-null   float64\n",
      " 5   Volume     2535 non-null   int64  \n",
      "dtypes: float64(5), int64(1)\n",
      "memory usage: 138.6 KB\n",
      "\n",
      "BND data info:\n",
      "<class 'pandas.core.frame.DataFrame'>\n",
      "DatetimeIndex: 2535 entries, 2015-07-01 to 2025-07-30\n",
      "Data columns (total 6 columns):\n",
      " #   Column     Non-Null Count  Dtype  \n",
      "---  ------     --------------  -----  \n",
      " 0   Open       2535 non-null   float64\n",
      " 1   High       2535 non-null   float64\n",
      " 2   Low        2535 non-null   float64\n",
      " 3   Close      2535 non-null   float64\n",
      " 4   Adj Close  2535 non-null   float64\n",
      " 5   Volume     2535 non-null   int64  \n",
      "dtypes: float64(5), int64(1)\n",
      "memory usage: 138.6 KB\n",
      "\n",
      "SPY data info:\n",
      "<class 'pandas.core.frame.DataFrame'>\n",
      "DatetimeIndex: 2535 entries, 2015-07-01 to 2025-07-30\n",
      "Data columns (total 6 columns):\n",
      " #   Column     Non-Null Count  Dtype  \n",
      "---  ------     --------------  -----  \n",
      " 0   Open       2535 non-null   float64\n",
      " 1   High       2535 non-null   float64\n",
      " 2   Low        2535 non-null   float64\n",
      " 3   Close      2535 non-null   float64\n",
      " 4   Adj Close  2535 non-null   float64\n",
      " 5   Volume     2535 non-null   int64  \n",
      "dtypes: float64(5), int64(1)\n",
      "memory usage: 138.6 KB\n"
     ]
    }
   ],
   "source": [
    "# Load all tickers\n",
    "tickers = [\"TSLA\", \"BND\", \"SPY\"]\n",
    "data = {ticker: load_ticker_data(ticker, DATA_RAW_DIR) for ticker in tickers}\n",
    "\n",
    "# Example: Display data summary\n",
    "print(\"Tesla data info:\")\n",
    "data[\"TSLA\"].info()\n",
    "\n",
    "print(\"\\nBND data info:\")\n",
    "data[\"BND\"].info()\n",
    "\n",
    "print(\"\\nSPY data info:\")\n",
    "data[\"SPY\"].info()"
   ]
  },
  {
   "cell_type": "code",
   "execution_count": 5,
   "id": "72167c27",
   "metadata": {},
   "outputs": [
    {
     "name": "stdout",
     "output_type": "stream",
     "text": [
      "\n",
      "TSLA shape:\n",
      "(2535, 6)\n",
      "\n",
      "BND shape:\n",
      "(2535, 6)\n",
      "\n",
      "SPY shape:\n",
      "(2535, 6)\n"
     ]
    }
   ],
   "source": [
    "# data shapes\n",
    "for ticker in tickers:\n",
    "    print(f\"\\n{ticker} shape:\")\n",
    "    print(data[ticker].shape)"
   ]
  },
  {
   "cell_type": "markdown",
   "id": "83a136df",
   "metadata": {},
   "source": [
    "## 2. Handle Missing Values\n",
    "- **Prices**: Forward-fill (markets closed on weekends/holidays)  \n",
    "- **Volume**: Set to 0 on non-trading days  \n",
    "- Confirm no nulls remain  "
   ]
  },
  {
   "cell_type": "code",
   "execution_count": 6,
   "id": "18c06b18",
   "metadata": {},
   "outputs": [
    {
     "name": "stdout",
     "output_type": "stream",
     "text": [
      "Data preprocessed successfully!\n"
     ]
    }
   ],
   "source": [
    "# Apply to all tickers\n",
    "processed_data = {ticker: preprocess_data(df) for ticker, df in data.items()}\n",
    "\n",
    "# Check TSLA for nulls\n",
    "assert processed_data[\"TSLA\"].isnull().sum().sum() == 0, \"Null values remain!\"\n",
    "print(\"Data preprocessed successfully!\")"
   ]
  },
  {
   "cell_type": "code",
   "execution_count": 7,
   "id": "6cc6c1f2",
   "metadata": {},
   "outputs": [
    {
     "name": "stdout",
     "output_type": "stream",
     "text": [
      "\n",
      "TSLA shape:\n",
      "(2631, 6)\n",
      "\n",
      "BND shape:\n",
      "(2631, 6)\n",
      "\n",
      "SPY shape:\n",
      "(2631, 6)\n"
     ]
    }
   ],
   "source": [
    "# new data shape\n",
    "for ticker in tickers:\n",
    "    print(f\"\\n{ticker} shape:\")\n",
    "    print(processed_data[ticker].shape)"
   ]
  },
  {
   "cell_type": "markdown",
   "id": "b61dfa53",
   "metadata": {},
   "source": [
    "## 3. Calculate Derived Metrics\n",
    "- **Daily Returns**: `(Adj Close_t / Adj Close_{t-1}) - 1`  \n",
    "- **Rolling Volatility**: 21-day std of returns  "
   ]
  },
  {
   "cell_type": "code",
   "execution_count": 8,
   "id": "1b5fa698",
   "metadata": {},
   "outputs": [
    {
     "data": {
      "text/html": [
       "<div>\n",
       "<style scoped>\n",
       "    .dataframe tbody tr th:only-of-type {\n",
       "        vertical-align: middle;\n",
       "    }\n",
       "\n",
       "    .dataframe tbody tr th {\n",
       "        vertical-align: top;\n",
       "    }\n",
       "\n",
       "    .dataframe thead th {\n",
       "        text-align: right;\n",
       "    }\n",
       "</style>\n",
       "<table border=\"1\" class=\"dataframe\">\n",
       "  <thead>\n",
       "    <tr style=\"text-align: right;\">\n",
       "      <th></th>\n",
       "      <th>Adj Close</th>\n",
       "      <th>Daily Return</th>\n",
       "      <th>21D Volatility</th>\n",
       "      <th>Log Return</th>\n",
       "    </tr>\n",
       "    <tr>\n",
       "      <th>Date</th>\n",
       "      <th></th>\n",
       "      <th></th>\n",
       "      <th></th>\n",
       "      <th></th>\n",
       "    </tr>\n",
       "  </thead>\n",
       "  <tbody>\n",
       "    <tr>\n",
       "      <th>2025-07-24</th>\n",
       "      <td>305.299988</td>\n",
       "      <td>-0.081970</td>\n",
       "      <td>0.033476</td>\n",
       "      <td>-0.085525</td>\n",
       "    </tr>\n",
       "    <tr>\n",
       "      <th>2025-07-25</th>\n",
       "      <td>316.059998</td>\n",
       "      <td>0.035244</td>\n",
       "      <td>0.034478</td>\n",
       "      <td>0.034637</td>\n",
       "    </tr>\n",
       "    <tr>\n",
       "      <th>2025-07-28</th>\n",
       "      <td>325.589996</td>\n",
       "      <td>0.030152</td>\n",
       "      <td>0.035100</td>\n",
       "      <td>0.029707</td>\n",
       "    </tr>\n",
       "    <tr>\n",
       "      <th>2025-07-29</th>\n",
       "      <td>321.200012</td>\n",
       "      <td>-0.013483</td>\n",
       "      <td>0.034979</td>\n",
       "      <td>-0.013575</td>\n",
       "    </tr>\n",
       "    <tr>\n",
       "      <th>2025-07-30</th>\n",
       "      <td>319.040009</td>\n",
       "      <td>-0.006725</td>\n",
       "      <td>0.032757</td>\n",
       "      <td>-0.006748</td>\n",
       "    </tr>\n",
       "  </tbody>\n",
       "</table>\n",
       "</div>"
      ],
      "text/plain": [
       "             Adj Close  Daily Return  21D Volatility  Log Return\n",
       "Date                                                            \n",
       "2025-07-24  305.299988     -0.081970        0.033476   -0.085525\n",
       "2025-07-25  316.059998      0.035244        0.034478    0.034637\n",
       "2025-07-28  325.589996      0.030152        0.035100    0.029707\n",
       "2025-07-29  321.200012     -0.013483        0.034979   -0.013575\n",
       "2025-07-30  319.040009     -0.006725        0.032757   -0.006748"
      ]
     },
     "execution_count": 8,
     "metadata": {},
     "output_type": "execute_result"
    }
   ],
   "source": [
    "# Apply to all tickers\n",
    "final_data = {ticker: calculate_metrics(df) for ticker, df in processed_data.items()}\n",
    "\n",
    "# Example: View TSLA metrics\n",
    "final_data[\"TSLA\"][[\"Adj Close\", \"Daily Return\", \"21D Volatility\", \"Log Return\"]].tail()"
   ]
  },
  {
   "cell_type": "code",
   "execution_count": 9,
   "id": "b8cae59c",
   "metadata": {},
   "outputs": [
    {
     "name": "stdout",
     "output_type": "stream",
     "text": [
      "[WindowsPath('../data/processed/bnd_processed.csv'), WindowsPath('../data/processed/spy_processed.csv'), WindowsPath('../data/processed/tsla_processed.csv')]\n"
     ]
    }
   ],
   "source": [
    "# Save to processed/\n",
    "for ticker, df in final_data.items():\n",
    "    df.to_csv(DATA_PROCESSED_DIR / f\"{ticker.lower()}_processed.csv\")\n",
    "\n",
    "# Verify files\n",
    "print(list(DATA_PROCESSED_DIR.glob(\"*.csv\")))"
   ]
  },
  {
   "cell_type": "markdown",
   "id": "616291bb",
   "metadata": {},
   "source": [
    "## Validation Summary\n",
    "- **Data Types**: Confirmed numeric/date types  \n",
    "- **Missing Values**:  \n",
    "  - Filled price gaps via forward-fill  \n",
    "  - Set missing volume to 0  \n",
    "- **New Features**:  \n",
    "  - `Daily Return`: Percent change in adjusted close  \n",
    "  - `21D Volatility`: Monthly risk metric  \n",
    "  - `Log Return`: log return in adjusted close"
   ]
  },
  {
   "cell_type": "code",
   "execution_count": 10,
   "id": "cde363d0",
   "metadata": {},
   "outputs": [
    {
     "data": {
      "image/png": "[encoded data removed]",
      "text/plain": [
       "<Figure size 1000x600 with 1 Axes>"
      ]
     },
     "metadata": {},
     "output_type": "display_data"
    }
   ],
   "source": [
    "# Plot TSLA returns distribution\n",
    "plt.figure(figsize=(10, 6))\n",
    "final_data[\"TSLA\"][\"Daily Return\"].hist(bins=100, alpha=0.7)\n",
    "plt.title(\"TSLA Daily Returns Distribution (2015-2025)\")\n",
    "plt.xlabel(\"Daily Return\")\n",
    "plt.ylabel(\"Frequency\")\n",
    "plt.show()"
   ]
  }
 ],
 "metadata": {
  "kernelspec": {
   "display_name": ".venv",
   "language": "python",
   "name": "python3"
  },
  "language_info": {
   "codemirror_mode": {
    "name": "ipython",
    "version": 3
   },
   "file_extension": ".py",
   "mimetype": "text/x-python",
   "name": "python",
   "nbconvert_exporter": "python",
   "pygments_lexer": "ipython3",
   "version": "3.10.10"
  }
 },
 "nbformat": 4,
 "nbformat_minor": 5
}
